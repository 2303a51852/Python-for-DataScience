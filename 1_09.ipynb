{
  "nbformat": 4,
  "nbformat_minor": 0,
  "metadata": {
    "colab": {
      "provenance": [],
      "authorship_tag": "ABX9TyOmYoaNghn3xrsdARgNMd0x",
      "include_colab_link": true
    },
    "kernelspec": {
      "name": "python3",
      "display_name": "Python 3"
    },
    "language_info": {
      "name": "python"
    }
  },
  "cells": [
    {
      "cell_type": "markdown",
      "metadata": {
        "id": "view-in-github",
        "colab_type": "text"
      },
      "source": [
        "<a href=\"https://colab.research.google.com/github/2303a51852/Python-for-DataScience/blob/main/1_09.ipynb\" target=\"_parent\"><img src=\"https://colab.research.google.com/assets/colab-badge.svg\" alt=\"Open In Colab\"/></a>"
      ]
    },
    {
      "cell_type": "code",
      "execution_count": 4,
      "metadata": {
        "colab": {
          "base_uri": "https://localhost:8080/"
        },
        "id": "5Kdtu_yFbNlW",
        "outputId": "b6b3f03c-acf7-4e76-9542-9ecbabfabf43"
      },
      "outputs": [
        {
          "output_type": "stream",
          "name": "stdout",
          "text": [
            "Pandas Series:\n",
            "0    10\n",
            "1    20\n",
            "2    30\n",
            "3    40\n",
            "4    50\n",
            "dtype: int64\n"
          ]
        }
      ],
      "source": [
        "#creating pandas as pd\n",
        "import pandas as pd\n",
        "data=[10,20,30,40,50]\n",
        "series=pd.Series(data)\n",
        "print(\"Pandas Series:\")\n",
        "print(series)"
      ]
    },
    {
      "cell_type": "code",
      "source": [
        "import pandas as pd\n",
        "data=[10,20,30,40,50]\n",
        "index_labels=['a','b','c','d','e']\n",
        "series=pd.Series(data,index=index_labels)\n",
        "print(series)"
      ],
      "metadata": {
        "colab": {
          "base_uri": "https://localhost:8080/"
        },
        "id": "7hGAz0qkczQJ",
        "outputId": "16efe523-d56c-4026-9ef7-71431a4412da"
      },
      "execution_count": 5,
      "outputs": [
        {
          "output_type": "stream",
          "name": "stdout",
          "text": [
            "a    10\n",
            "b    20\n",
            "c    30\n",
            "d    40\n",
            "e    50\n",
            "dtype: int64\n"
          ]
        }
      ]
    },
    {
      "cell_type": "code",
      "source": [
        "from __future__ import print_function\n",
        "import pandas as pd\n",
        "data={\n",
        "    'Name':['Alice','Bob','Charlie','David'],\n",
        "    'Age':[25,30,35,40],\n",
        "    'City':['Hyderabad','Delhi','Chennai','Mumbai']\n",
        "}\n",
        "df=pd.DataFrame(data)\n",
        "print(\"Pandas Dataframe:\")\n",
        "print(df)\n",
        "#accessing a single column\n",
        "print(df['Name'])\n",
        "#accessing multiple column\n",
        "print(df[['Name','City']])\n",
        "#accessing row using index\n",
        "print(df.iloc[1]) #row at index 1\n",
        "print(df.iloc[2]) #row with label 2\n",
        "\n",
        "#adding new column\n",
        "df['Salary']=[40000,50000,60000,70000]\n",
        "print(df)\n",
        "\n",
        "#removing a column\n",
        "df=df.drop('City',axis=1)\n",
        "print(df)\n",
        "print(df[df['Age']>30])\n",
        "print(df['Age'].mean())\n",
        "print(df['Age'].max())\n",
        "print(df['Age'].min())"
      ],
      "metadata": {
        "colab": {
          "base_uri": "https://localhost:8080/"
        },
        "id": "vZ1-MYqwdkAG",
        "outputId": "19ba2c0f-8eae-4f00-8d2d-7bec1fbb5229"
      },
      "execution_count": 14,
      "outputs": [
        {
          "output_type": "stream",
          "name": "stdout",
          "text": [
            "Pandas Dataframe:\n",
            "      Name  Age       City\n",
            "0    Alice   25  Hyderabad\n",
            "1      Bob   30      Delhi\n",
            "2  Charlie   35    Chennai\n",
            "3    David   40     Mumbai\n",
            "0      Alice\n",
            "1        Bob\n",
            "2    Charlie\n",
            "3      David\n",
            "Name: Name, dtype: object\n",
            "      Name       City\n",
            "0    Alice  Hyderabad\n",
            "1      Bob      Delhi\n",
            "2  Charlie    Chennai\n",
            "3    David     Mumbai\n",
            "Name      Bob\n",
            "Age        30\n",
            "City    Delhi\n",
            "Name: 1, dtype: object\n",
            "Name    Charlie\n",
            "Age          35\n",
            "City    Chennai\n",
            "Name: 2, dtype: object\n",
            "      Name  Age       City  Salary\n",
            "0    Alice   25  Hyderabad   40000\n",
            "1      Bob   30      Delhi   50000\n",
            "2  Charlie   35    Chennai   60000\n",
            "3    David   40     Mumbai   70000\n",
            "      Name  Age  Salary\n",
            "0    Alice   25   40000\n",
            "1      Bob   30   50000\n",
            "2  Charlie   35   60000\n",
            "3    David   40   70000\n",
            "      Name  Age  Salary\n",
            "2  Charlie   35   60000\n",
            "3    David   40   70000\n",
            "32.5\n",
            "40\n",
            "25\n"
          ]
        }
      ]
    },
    {
      "cell_type": "code",
      "source": [
        "import pandas as pd\n",
        "student_data={\n",
        "    'student_ID':[101,102,103,104],\n",
        "    'Name':['Ravi','Neha','Kiran','Sita'],\n",
        "    'Marks':[85,90,78,92],\n",
        "    'Department':['CSE','ECE','MECH','CSE']\n",
        "}\n",
        "df=pd.DataFrame(student_data)\n",
        "print(\"Student Data:\")\n",
        "print(df)\n",
        "print(\"\\nStudents with Marks>80:\")\n",
        "print(df[df['Marks']>80])\n",
        "\n",
        ""
      ],
      "metadata": {
        "colab": {
          "base_uri": "https://localhost:8080/"
        },
        "id": "32-ZYB3tjDtF",
        "outputId": "560435fb-a6f7-4402-ac7b-0ceae2905565"
      },
      "execution_count": 16,
      "outputs": [
        {
          "output_type": "stream",
          "name": "stdout",
          "text": [
            "Student Data:\n",
            "   student_ID   Name  Marks Department\n",
            "0         101   Ravi     85        CSE\n",
            "1         102   Neha     90        ECE\n",
            "2         103  Kiran     78       MECH\n",
            "3         104   Sita     92        CSE\n",
            "\n",
            "Students with Marks>80:\n",
            "   student_ID  Name  Marks Department\n",
            "0         101  Ravi     85        CSE\n",
            "1         102  Neha     90        ECE\n",
            "3         104  Sita     92        CSE\n"
          ]
        }
      ]
    },
    {
      "cell_type": "code",
      "source": [
        "#student data in excelsheet with 5 records\n",
        "student_data={'student_ID':[101,102,103,104,105],'Name':['ravi','raju','ram','chintu','raghu'],'M1':[80,85,90,97,95],'M2':[40,45,50,55,60],'M3':[60,65,70,75,80]}\n",
        "\n",
        "student_data['Total'] = [m1 + m2 + m3 for m1, m2, m3 in zip(student_data['M1'], student_data['M2'], student_data['M3'])]\n",
        "student_data['Avg'] = [(m1 + m2 + m3) / 3 for m1, m2, m3 in zip(student_data['M1'], student_data['M2'], student_data['M3'])]\n",
        "student_data['Result'] = ['Pass' if total >= 180 else 'Fail' for total in student_data['Total']] # Assuming a passing total of 180\n",
        "\n",
        "df=pd.DataFrame(student_data)\n",
        "print(df)"
      ],
      "metadata": {
        "colab": {
          "base_uri": "https://localhost:8080/"
        },
        "id": "PgFkIAYRvhpv",
        "outputId": "69aec744-6d58-4321-c7ea-93c54dd7538a"
      },
      "execution_count": 19,
      "outputs": [
        {
          "output_type": "stream",
          "name": "stdout",
          "text": [
            "   student_ID    Name  M1  M2  M3  Total        Avg Result\n",
            "0         101    ravi  80  40  60    180  60.000000   Pass\n",
            "1         102    raju  85  45  65    195  65.000000   Pass\n",
            "2         103     ram  90  50  70    210  70.000000   Pass\n",
            "3         104  chintu  97  55  75    227  75.666667   Pass\n",
            "4         105   raghu  95  60  80    235  78.333333   Pass\n"
          ]
        }
      ]
    },
    {
      "cell_type": "code",
      "source": [
        "import pandas as pd\n",
        "import numpy as np\n",
        "data={\n",
        "    'Name':['Ravi','Neha,','Kiran','Sita'],\n",
        "    'Age':[25,np.nan,30,28],\n",
        "    'Marks':[85,90,np.nan,92]\n",
        "}\n",
        "df=pd.DataFrame(data)\n",
        "print(\"Original DataFrame:\")\n",
        "print(df)\n",
        "print(\"\\nCheck for Missing Values\")\n",
        "print(df.isnull())\n",
        "#drop rows with missing values\n",
        "df_dropped=df.dropna()\n",
        "print(\"After Dropping Rows with Nan:\")\n",
        "print(df_dropped)\n"
      ],
      "metadata": {
        "colab": {
          "base_uri": "https://localhost:8080/"
        },
        "id": "v7ODnBQ3uFdM",
        "outputId": "932aa116-a6ad-40dd-9ff6-9efc2f249e05"
      },
      "execution_count": 21,
      "outputs": [
        {
          "output_type": "stream",
          "name": "stdout",
          "text": [
            "Original DataFrame:\n",
            "    Name   Age  Marks\n",
            "0   Ravi  25.0   85.0\n",
            "1  Neha,   NaN   90.0\n",
            "2  Kiran  30.0    NaN\n",
            "3   Sita  28.0   92.0\n",
            "\n",
            "Check for Missing Values\n",
            "    Name    Age  Marks\n",
            "0  False  False  False\n",
            "1  False   True  False\n",
            "2  False  False   True\n",
            "3  False  False  False\n",
            "After Dropping Rows with Nan:\n",
            "   Name   Age  Marks\n",
            "0  Ravi  25.0   85.0\n",
            "3  Sita  28.0   92.0\n"
          ]
        }
      ]
    },
    {
      "cell_type": "code",
      "source": [
        "#fill missing values with constant\n",
        "df_filled=df.fillna(0)\n",
        "print(\"Filling with 0:\")\n",
        "print(df_filled)"
      ],
      "metadata": {
        "colab": {
          "base_uri": "https://localhost:8080/"
        },
        "id": "Yd99daWrxeZ3",
        "outputId": "069956fc-d372-4c0c-dbf3-44578adfa58c"
      },
      "execution_count": 24,
      "outputs": [
        {
          "output_type": "stream",
          "name": "stdout",
          "text": [
            "Filling with 0:\n",
            "    Name   Age  Marks\n",
            "0   Ravi  25.0   85.0\n",
            "1  Neha,   0.0   90.0\n",
            "2  Kiran  30.0    0.0\n",
            "3   Sita  28.0   92.0\n"
          ]
        }
      ]
    },
    {
      "cell_type": "code",
      "source": [
        "#fill missing with mean of column\n",
        "df['Age'] = df['Age'].fillna(df['Age'].mean())\n",
        "df['Marks'] = df['Marks'].fillna(df['Marks'].mean())\n",
        "print(df)"
      ],
      "metadata": {
        "colab": {
          "base_uri": "https://localhost:8080/"
        },
        "id": "f3pY1dxTx4QR",
        "outputId": "b84c5d41-d1a8-4029-d96b-6d998104e949"
      },
      "execution_count": 26,
      "outputs": [
        {
          "output_type": "stream",
          "name": "stdout",
          "text": [
            "    Name        Age  Marks\n",
            "0   Ravi  25.000000   85.0\n",
            "1  Neha,  27.666667   90.0\n",
            "2  Kiran  30.000000   89.0\n",
            "3   Sita  28.000000   92.0\n"
          ]
        }
      ]
    },
    {
      "cell_type": "code",
      "source": [
        "import pandas as pd\n",
        "data={\n",
        "    'ID':[1,2,3,4,5,6],\n",
        "    'Name':['Ravi','Neha','Neha','Kiran','Sita','Sita'],\n",
        "    'Marks':[85,90,90,78,92,92]\n",
        "}\n",
        "df=pd.DataFrame(data)\n",
        "print(\"Original DataFrame with Duplicates:\")\n",
        "print(df)\n",
        "df_no_dup=df.drop_duplicates(subset=['Name','Marks'])\n",
        "print(\"After Removing Duplicates:\")\n",
        "print(df_no_dup)"
      ],
      "metadata": {
        "colab": {
          "base_uri": "https://localhost:8080/"
        },
        "id": "i8VjfKshzdF4",
        "outputId": "1cead00f-7a9f-4f15-b94f-b2a7f9292f86"
      },
      "execution_count": 32,
      "outputs": [
        {
          "output_type": "stream",
          "name": "stdout",
          "text": [
            "Original DataFrame with Duplicates:\n",
            "   ID   Name  Marks\n",
            "0   1   Ravi     85\n",
            "1   2   Neha     90\n",
            "2   3   Neha     90\n",
            "3   4  Kiran     78\n",
            "4   5   Sita     92\n",
            "5   6   Sita     92\n",
            "After Removing Duplicates:\n",
            "   ID   Name  Marks\n",
            "0   1   Ravi     85\n",
            "1   2   Neha     90\n",
            "3   4  Kiran     78\n",
            "4   5   Sita     92\n"
          ]
        }
      ]
    },
    {
      "cell_type": "code",
      "source": [
        "#changing data types\n",
        "data={\n",
        "'ID':['1','2','3','4'],\n",
        "'Marks':['85','90','78','92']\n",
        "}\n",
        "df=pd.DataFrame(data)\n",
        "print(\"Original DataFrame:\")\n",
        "print(df.dtypes)\n",
        "df['ID']=pd.to_numeric(df['ID'])\n",
        "df['Marks']=pd.to_numeric(df['Marks'])\n",
        "print(\"\\nAfter Conversion:\")\n",
        "print(df.dtypes)"
      ],
      "metadata": {
        "colab": {
          "base_uri": "https://localhost:8080/"
        },
        "id": "WmK2y-FR1-aM",
        "outputId": "ce6bde82-85e6-4f40-d138-b8b3004ec7df"
      },
      "execution_count": 36,
      "outputs": [
        {
          "output_type": "stream",
          "name": "stdout",
          "text": [
            "Original DataFrame:\n",
            "ID       object\n",
            "Marks    object\n",
            "dtype: object\n",
            "\n",
            "After Conversion:\n",
            "ID       int64\n",
            "Marks    int64\n",
            "dtype: object\n"
          ]
        }
      ]
    },
    {
      "cell_type": "code",
      "source": [
        "#applying function\n",
        "df['Marks']=df['Marks'].apply(lambda x:x+7)\n",
        "print(\"after Adding Bonus Marks\")\n",
        "print(df)\n"
      ],
      "metadata": {
        "colab": {
          "base_uri": "https://localhost:8080/"
        },
        "id": "3TDGbaAD4iS7",
        "outputId": "db6cf2d8-0024-46f2-c72f-9a54ecb97862"
      },
      "execution_count": 39,
      "outputs": [
        {
          "output_type": "stream",
          "name": "stdout",
          "text": [
            "after Adding Bonus Marks\n",
            "   ID  Marks\n",
            "0   1     97\n",
            "1   2    102\n",
            "2   3     90\n",
            "3   4    104\n"
          ]
        }
      ]
    },
    {
      "cell_type": "code",
      "source": [
        "#Normalization(Scaling btw 0 & 1)\n",
        "df['Marks_Normalized']=(df['Marks']-(df['Marks'].min()))/((df['Marks'].max())-df['Marks'].min())\n",
        "print(df)"
      ],
      "metadata": {
        "colab": {
          "base_uri": "https://localhost:8080/"
        },
        "id": "W_1pDa8S5Agx",
        "outputId": "52c35ff8-d3cc-4a85-847a-670c19d41063"
      },
      "execution_count": 41,
      "outputs": [
        {
          "output_type": "stream",
          "name": "stdout",
          "text": [
            "   ID  Marks  Marks_Normalized\n",
            "0   1     97          0.500000\n",
            "1   2    102          0.857143\n",
            "2   3     90          0.000000\n",
            "3   4    104          1.000000\n"
          ]
        }
      ]
    }
  ]
}