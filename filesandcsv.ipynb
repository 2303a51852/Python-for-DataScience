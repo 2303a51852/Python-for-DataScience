{
  "nbformat": 4,
  "nbformat_minor": 0,
  "metadata": {
    "colab": {
      "provenance": [],
      "authorship_tag": "ABX9TyO1S12mECozIIdqFyZT6IS9",
      "include_colab_link": true
    },
    "kernelspec": {
      "name": "python3",
      "display_name": "Python 3"
    },
    "language_info": {
      "name": "python"
    }
  },
  "cells": [
    {
      "cell_type": "markdown",
      "metadata": {
        "id": "view-in-github",
        "colab_type": "text"
      },
      "source": [
        "<a href=\"https://colab.research.google.com/github/2303a51852/Python-for-DataScience/blob/main/filesandcsv.ipynb\" target=\"_parent\"><img src=\"https://colab.research.google.com/assets/colab-badge.svg\" alt=\"Open In Colab\"/></a>"
      ]
    },
    {
      "cell_type": "code",
      "execution_count": 17,
      "metadata": {
        "id": "mUAAPxGBXmz1"
      },
      "outputs": [],
      "source": [
        "#3.writing to a file\n",
        "#open file in write mode\n",
        "file = open(\"example.txt\",\"w\")\n",
        "#write text to file\n",
        "file.write(\"Hello, B.Tech students!\\n\")\n",
        "file.write(\"This is file handling in Python.\\n\")\n",
        "file.write(\"sr university\")\n",
        "#close file\n",
        "file.close()\n"
      ]
    },
    {
      "cell_type": "code",
      "source": [
        "#4 Reading from file\n",
        "#open file i read mode\n",
        "file=open(\"example.txt\",\"r\")\n",
        "\n",
        "#read entire content\n",
        "content=file.read()\n",
        "print(\"File Content:\\n\",content)\n",
        "\n",
        "#close file\n",
        "file.close()"
      ],
      "metadata": {
        "colab": {
          "base_uri": "https://localhost:8080/"
        },
        "id": "zBnlXZAFXx_1",
        "outputId": "e9a08bb2-3d39-4240-d58c-f554741e6801"
      },
      "execution_count": 18,
      "outputs": [
        {
          "output_type": "stream",
          "name": "stdout",
          "text": [
            "File Content:\n",
            " Hello, B.Tech students!\n",
            "This is file handling in Python.\n",
            "sr university\n"
          ]
        }
      ]
    },
    {
      "cell_type": "code",
      "source": [
        "#5 Reading line by line\n",
        "file=open(\"example.txt\",\"r\")\n",
        "\n",
        "#read first line\n",
        "line1=file.readline()\n",
        "print(\"First Line:\",line1)\n",
        "\n",
        "#read remainig lines\n",
        "line2=file.readline()\n",
        "print(\"Second Line:\",line2)\n",
        "\n",
        "line3=file.readline()\n",
        "print(\" Line:\",line3)\n",
        "file.close()\n"
      ],
      "metadata": {
        "colab": {
          "base_uri": "https://localhost:8080/"
        },
        "id": "fyB6saqRZQvM",
        "outputId": "d2fc6631-2387-42da-feb3-7b8afe5910f3"
      },
      "execution_count": 19,
      "outputs": [
        {
          "output_type": "stream",
          "name": "stdout",
          "text": [
            "First Line: Hello, B.Tech students!\n",
            "\n",
            "Second Line: This is file handling in Python.\n",
            "\n",
            " Line: sr university\n"
          ]
        }
      ]
    },
    {
      "cell_type": "code",
      "source": [
        "#6 Reading all lines into a list\n"
      ],
      "metadata": {
        "id": "u5iN6DH_ay3t"
      },
      "execution_count": 20,
      "outputs": []
    },
    {
      "cell_type": "code",
      "source": [
        "#7 appending data to an existing file\n",
        "file=open(\"example.txt\",'a')\n",
        "file.write(\"Appending new data...\\n\")\n",
        "file.close()\n"
      ],
      "metadata": {
        "id": "qXN4LVQGbUST"
      },
      "execution_count": 21,
      "outputs": []
    },
    {
      "cell_type": "code",
      "source": [
        "#8 using with statement (best practice)\n",
        "#the with statement automatically closes the file after\n",
        "with open(\"example.txt\",'r') as file:\n",
        "  data=file.read()\n",
        "  print(data)"
      ],
      "metadata": {
        "colab": {
          "base_uri": "https://localhost:8080/"
        },
        "id": "zPf89Vz7brcT",
        "outputId": "b6d767d7-bb7b-4f5f-e092-c0cb2f036b29"
      },
      "execution_count": 22,
      "outputs": [
        {
          "output_type": "stream",
          "name": "stdout",
          "text": [
            "Hello, B.Tech students!\n",
            "This is file handling in Python.\n",
            "sr universityAppending new data...\n",
            "\n"
          ]
        }
      ]
    },
    {
      "cell_type": "code",
      "source": [
        "#9 working with csv files\n",
        "# Writing to csv\n",
        "import csv\n",
        "with open(\"data.csv\",\"w\",newline='') as fp:\n",
        "  wr=csv.writer(fp)\n",
        "  wr.writerow([\"Name\",\"Age\",\"Course\"])\n",
        "  wr.writerow([\"aaa\",21,\"CSE\"])\n",
        "  wr.writerow([\"bbb\",20,\"ECE\"])\n",
        "\n",
        "\n",
        "#readind from csv\n",
        "with open(\"data.csv\",\"r\") as file:\n",
        "  re=csv.reader(file)\n",
        "  for row in re:\n",
        "    print(row)\n"
      ],
      "metadata": {
        "colab": {
          "base_uri": "https://localhost:8080/"
        },
        "id": "_YeQujxdcXtm",
        "outputId": "77695d45-ef8e-44ed-81d5-91436f5b789f"
      },
      "execution_count": 27,
      "outputs": [
        {
          "output_type": "stream",
          "name": "stdout",
          "text": [
            "['Name', 'Age', 'Course']\n",
            "['aaa', '21', 'CSE']\n",
            "['bbb', '20', 'ECE']\n"
          ]
        }
      ]
    }
  ]
}