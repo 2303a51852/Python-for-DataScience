{
  "nbformat": 4,
  "nbformat_minor": 0,
  "metadata": {
    "colab": {
      "provenance": [],
      "authorship_tag": "ABX9TyOiy8x+zaIzVl01SZCJeHkZ",
      "include_colab_link": true
    },
    "kernelspec": {
      "name": "python3",
      "display_name": "Python 3"
    },
    "language_info": {
      "name": "python"
    }
  },
  "cells": [
    {
      "cell_type": "markdown",
      "metadata": {
        "id": "view-in-github",
        "colab_type": "text"
      },
      "source": [
        "<a href=\"https://colab.research.google.com/github/2303a51852/Python-for-DataScience/blob/main/08_09.ipynb\" target=\"_parent\"><img src=\"https://colab.research.google.com/assets/colab-badge.svg\" alt=\"Open In Colab\"/></a>"
      ]
    },
    {
      "cell_type": "code",
      "execution_count": 2,
      "metadata": {
        "colab": {
          "base_uri": "https://localhost:8080/"
        },
        "id": "C2Wn4G5Dc7CK",
        "outputId": "b0eb2300-1750-44fe-b05e-ff402e6858b5"
      },
      "outputs": [
        {
          "output_type": "stream",
          "name": "stdout",
          "text": [
            "Merge DataFrame:\n",
            "   Student_ID   Name  Student ID  Marks\n",
            "0         101   Ravi         101     85\n",
            "1         102   Neha         102     90\n",
            "2         103  Kiran         103     78\n"
          ]
        }
      ],
      "source": [
        "import pandas as pd\n",
        "#student data\n",
        "students=pd.DataFrame({\n",
        "    'Student_ID':[101,102,103,104],\n",
        "    'Name':['Ravi','Neha','Kiran','Sita']\n",
        "})\n",
        "\n",
        "#marks data\n",
        "marks=pd.DataFrame({\n",
        "    'Student ID':[101,102,103,105],\n",
        "    'Marks':[85,90,78,88]\n",
        "})\n",
        "\n",
        "#merge on student id\n",
        "merge_df=pd.merge(students,marks,left_on='Student_ID', right_on='Student ID')\n",
        "print(\"Merge DataFrame:\")\n",
        "print(merge_df)"
      ]
    },
    {
      "cell_type": "code",
      "source": [
        "import pandas as pd\n",
        "ts=pd.to_datetime(\"2025-08-22 15:45:30\")\n",
        "print(ts.year)\n",
        "print(ts.month)\n",
        "print(ts.day)\n",
        "print(ts.hour)\n",
        "# print(ts.weekend) # This line caused an error\n",
        "print(ts.hour)\n",
        "\n"
      ],
      "metadata": {
        "colab": {
          "base_uri": "https://localhost:8080/"
        },
        "id": "FZ2rThiHxxw8",
        "outputId": "8260cf8d-046d-46f7-cc53-8c6b4aa2cc6f"
      },
      "execution_count": 6,
      "outputs": [
        {
          "output_type": "stream",
          "name": "stdout",
          "text": [
            "2025\n",
            "8\n",
            "22\n",
            "15\n",
            "15\n"
          ]
        }
      ]
    },
    {
      "cell_type": "code",
      "source": [
        "import pandas as pd\n",
        "import numpy as np\n",
        "#create a date range\n",
        "dates=pd.date_range(start='2025-01-01',periods=6,freq='D')\n",
        "#random values for each date\n",
        "ts=pd.Series(np.random.randn(6),index=dates)\n",
        "print(ts)\n",
        "print(ts['2025-01-02'])\n",
        "print(ts['2025-01-02':'2025-01-04'])"
      ],
      "metadata": {
        "colab": {
          "base_uri": "https://localhost:8080/"
        },
        "id": "IWr3spGt2udQ",
        "outputId": "3d9af2d8-7c79-453a-8a91-12cb6c9db1a0"
      },
      "execution_count": 9,
      "outputs": [
        {
          "output_type": "stream",
          "name": "stdout",
          "text": [
            "2025-01-01    1.210176\n",
            "2025-01-02   -1.327800\n",
            "2025-01-03    0.981121\n",
            "2025-01-04   -0.628601\n",
            "2025-01-05    0.047138\n",
            "2025-01-06    2.111307\n",
            "Freq: D, dtype: float64\n",
            "-1.327799535004352\n",
            "2025-01-02   -1.327800\n",
            "2025-01-03    0.981121\n",
            "2025-01-04   -0.628601\n",
            "Freq: D, dtype: float64\n"
          ]
        }
      ]
    },
    {
      "cell_type": "code",
      "source": [
        "#daily data\n",
        "ts=pd.Series(np.random.randn(10),index=pd.date_range('2025-01-01',periods=10,freq='D'))\n",
        "print(ts)\n",
        "monthly_mean=ts.resample('M').mean()\n",
        "print(monthly_mean)\n",
        "print(ts.shift(1))\n",
        "print(ts.shift(-1))\n"
      ],
      "metadata": {
        "colab": {
          "base_uri": "https://localhost:8080/"
        },
        "id": "IpuAAeAv5hrm",
        "outputId": "34b02fec-bb81-40b5-cc33-207b92ac73f5"
      },
      "execution_count": 14,
      "outputs": [
        {
          "output_type": "stream",
          "name": "stdout",
          "text": [
            "2025-01-01    0.916819\n",
            "2025-01-02   -0.226753\n",
            "2025-01-03   -0.233236\n",
            "2025-01-04    0.643642\n",
            "2025-01-05   -0.762191\n",
            "2025-01-06    2.515079\n",
            "2025-01-07    0.668502\n",
            "2025-01-08   -0.735164\n",
            "2025-01-09   -0.379581\n",
            "2025-01-10    0.854713\n",
            "Freq: D, dtype: float64\n",
            "2025-01-31    0.326183\n",
            "Freq: ME, dtype: float64\n",
            "2025-01-01         NaN\n",
            "2025-01-02    0.916819\n",
            "2025-01-03   -0.226753\n",
            "2025-01-04   -0.233236\n",
            "2025-01-05    0.643642\n",
            "2025-01-06   -0.762191\n",
            "2025-01-07    2.515079\n",
            "2025-01-08    0.668502\n",
            "2025-01-09   -0.735164\n",
            "2025-01-10   -0.379581\n",
            "Freq: D, dtype: float64\n",
            "2025-01-01   -0.226753\n",
            "2025-01-02   -0.233236\n",
            "2025-01-03    0.643642\n",
            "2025-01-04   -0.762191\n",
            "2025-01-05    2.515079\n",
            "2025-01-06    0.668502\n",
            "2025-01-07   -0.735164\n",
            "2025-01-08   -0.379581\n",
            "2025-01-09    0.854713\n",
            "2025-01-10         NaN\n",
            "Freq: D, dtype: float64\n"
          ]
        },
        {
          "output_type": "stream",
          "name": "stderr",
          "text": [
            "/tmp/ipython-input-2110535551.py:4: FutureWarning: 'M' is deprecated and will be removed in a future version, please use 'ME' instead.\n",
            "  monthly_mean=ts.resample('M').mean()\n"
          ]
        }
      ]
    },
    {
      "cell_type": "code",
      "source": [
        "import pandas as pd\n",
        "import numpy as np\n",
        "dates=pd.date_range(start='2025-01-01',periods=10,freq='D')\n",
        "# The number of values must match the number of dates in the index (10)\n",
        "ts=pd.Series(np.random.randn(10),index=dates) # Using random data for demonstration\n",
        "print(\"Original Series:\")\n",
        "print(ts)\n",
        "# Use 'ts' instead of 'prices' and 'window' instead of 'Window'\n",
        "print(\"3-day Moving average:\\n\",ts.rolling(window=3).mean())\n"
      ],
      "metadata": {
        "colab": {
          "base_uri": "https://localhost:8080/"
        },
        "id": "cgB3VU7064x0",
        "outputId": "61f72a87-9000-4fe1-8d22-6fa079a2bd36"
      },
      "execution_count": 16,
      "outputs": [
        {
          "output_type": "stream",
          "name": "stdout",
          "text": [
            "Original Series:\n",
            "2025-01-01    0.166287\n",
            "2025-01-02   -0.047959\n",
            "2025-01-03   -1.131349\n",
            "2025-01-04   -0.744549\n",
            "2025-01-05    1.272289\n",
            "2025-01-06    1.388864\n",
            "2025-01-07   -0.570448\n",
            "2025-01-08   -0.177408\n",
            "2025-01-09    0.527155\n",
            "2025-01-10   -0.678640\n",
            "Freq: D, dtype: float64\n",
            "3-day Moving average:\n",
            " 2025-01-01         NaN\n",
            "2025-01-02         NaN\n",
            "2025-01-03   -0.337674\n",
            "2025-01-04   -0.641286\n",
            "2025-01-05   -0.201203\n",
            "2025-01-06    0.638868\n",
            "2025-01-07    0.696902\n",
            "2025-01-08    0.213669\n",
            "2025-01-09   -0.073567\n",
            "2025-01-10   -0.109631\n",
            "Freq: D, dtype: float64\n"
          ]
        }
      ]
    }
  ]
}